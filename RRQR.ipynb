{
 "cells": [
  {
   "cell_type": "code",
   "execution_count": 157,
   "id": "d8b3f791",
   "metadata": {},
   "outputs": [],
   "source": [
    "import numpy as np\n",
    "import scipy.linalg as scipy"
   ]
  },
  {
   "cell_type": "code",
   "execution_count": 226,
   "id": "bb3c41c4",
   "metadata": {},
   "outputs": [],
   "source": [
    "def new_rand_A(size_n, size_m):\n",
    "    A = np.zeros((size_n,size_m))\n",
    "    for i in range(size_n):\n",
    "        for j in range(size_m):\n",
    "            A[i][j] = np.random.randint(low=0, high=9)\n",
    "    \n",
    "    return A\n",
    "\n",
    "A_10 = new_rand_A(10,8)\n",
    "A_100 = new_rand_A(100,100)\n",
    "\n",
    "def secretly_rank_k(size_n, size_k):\n",
    "    a = np.zeros((size_n,size_k))\n",
    "    b = np.zeros((size_k, size_n))\n",
    "    \n",
    "    for i in range(size_n):\n",
    "        for j in range(size_k):\n",
    "            a[i][j] = np.random.randint(low=-9, high=9)\n",
    "            b[j][i] = np.random.randint(low=-9, high=9)\n",
    "            \n",
    "    return np.matmul(a, b)\n",
    "\n",
    "def pivot_A(A, p):\n",
    "    new_A = np.zeros((len(A),len(A[0])))\n",
    "    for col in range(len(p)):\n",
    "        new_A[:,col] = A[:,p[col]]\n",
    "    return new_A\n",
    "\n",
    "def Swap(arr, start_index, last_index):\n",
    "    arr[:, [start_index, last_index]] = arr[:, [last_index, start_index]]\n",
    "\n",
    "S_100 = secretly_rank_k(100, 3)\n",
    "Q,R,p = scipy.qr(A_10, pivoting=True)\n",
    "u,s,v = np.linalg.svd(S_100)\n"
   ]
  },
  {
   "cell_type": "code",
   "execution_count": 196,
   "id": "8007a1c7",
   "metadata": {},
   "outputs": [
    {
     "data": {
      "text/plain": [
       "'Q,R,p = scipy.qr(A_10, pivoting=True)\\npivoted_A = pivot_A(A_10,p)\\nprint(np.diagonal(pivoted_A))\\nQR = np.matmul(Q,R)\\nprint(np.linalg.norm(pivoted_A, ord=2))\\nprint(np.linalg.norm(QR, ord=2))\\nprint(np.linalg.norm(pivoted_A - QR, ord=2))'"
      ]
     },
     "execution_count": 196,
     "metadata": {},
     "output_type": "execute_result"
    }
   ],
   "source": [
    "'''TEST CELL, DISREGARD'''\n",
    "\n",
    "Q[:,[0,1]] = Q[:,[1,0]]\n",
    "'''diagonal = np.diagonal(R)\n",
    "norm = np.linalg.norm(new_A, ord=2)\n",
    "normR = np.linalg.norm(R, ord=2)\n",
    "print(norm, normR)\n",
    "print(np.linalg.matrix_rank())\n",
    "S = secretly_rank_k(10, 3)'''\n",
    "\n",
    "'''A = new_rand_A(10,5)\n",
    "Q,R,p = scipy.qr(A, pivoting=True)\n",
    "piv_A = pivot_A(A,p)\n",
    "r_11 = R[0,0]\n",
    "r_12 = R[0,1:]\n",
    "r_22 = R[1:,1:]\n",
    "\n",
    "print(Q)\n",
    "q_1 = Q[:,:2]\n",
    "q_2 = Q[:,2:]\n",
    "print(q_1)\n",
    "print(q_2)'''\n",
    "\n",
    "'''Q,R,p = scipy.qr(A_10, pivoting=True)\n",
    "pivoted_A = pivot_A(A_10,p)\n",
    "print(np.diagonal(pivoted_A))\n",
    "QR = np.matmul(Q,R)\n",
    "print(np.linalg.norm(pivoted_A, ord=2))\n",
    "print(np.linalg.norm(QR, ord=2))\n",
    "print(np.linalg.norm(pivoted_A - QR, ord=2))'''"
   ]
  },
  {
   "cell_type": "code",
   "execution_count": 135,
   "id": "a06d3dbe",
   "metadata": {},
   "outputs": [
    {
     "data": {
      "text/plain": [
       "'def RRQR(A, TOL=None):\\n    qr_A = scipy.qr(A, pivoting=True)\\n    Q = qr_A[0]\\n    R = qr_A[1]\\n    \\n    k = 1\\n    if TOL == None:\\n        TOL = np.linalg.norm(A, ord=2)/5\\n    M = R[0][0]\\n    N = Q[0][0]\\n    norm_A = np.linalg.norm(A, ord=2)\\n    norm_MN = abs(R[0][0]) * abs(Q[0][0])\\n    while abs(norm_A - norm_MN) > TOL and k<min(len(A), len(A[0])):\\n        k += 1\\n        M = R[:k,:k]\\n        N = Q[:k,:k]\\n        norm_MN = np.linalg.norm(M, ord=2) * np.linalg.norm(N, ord=2)\\n    \\n    new_Q = Q[:len(A)][:k]        \\n    return new_Q,M,k\\n\\nQ,R,k = RRQR(A_100, None)\\nprint(k)\\nQ,R,k = RRQR(S_100, None)\\nprint(k)'"
      ]
     },
     "execution_count": 135,
     "metadata": {},
     "output_type": "execute_result"
    }
   ],
   "source": [
    "'''OLD QR, DISREGARD, ONLY FOR REFERENCE'''\n",
    "\n",
    "'''def RRQR(A, TOL=None):\n",
    "    qr_A = scipy.qr(A, pivoting=True)\n",
    "    Q = qr_A[0]\n",
    "    R = qr_A[1]\n",
    "    \n",
    "    k = \n",
    "    if TOL == None:\n",
    "        TOL = np.linalg.norm(A, ord=2)/5\n",
    "    M = R[0][0]\n",
    "    N = Q[0][0]\n",
    "    norm_A = np.linalg.norm(A, ord=2)\n",
    "    norm_MN = abs(R[0][0]) * abs(Q[0][0])\n",
    "    while abs(norm_A - norm_MN) > TOL and k<min(len(A), len(A[0])):\n",
    "        k += 1\n",
    "        M = R[:k,:k]\n",
    "        N = Q[:k,:k]\n",
    "        norm_MN = np.linalg.norm(M, ord=2) * np.linalg.norm(N, ord=2)\n",
    "    \n",
    "    new_Q = Q[:len(A)][:k]        \n",
    "    return new_Q,M,k\n",
    "\n",
    "Q,R,k = RRQR(A_100, None)\n",
    "print(k)\n",
    "Q,R,k = RRQR(S_100, None)\n",
    "print(k)'''"
   ]
  },
  {
   "cell_type": "code",
   "execution_count": 221,
   "id": "5e828b34",
   "metadata": {},
   "outputs": [],
   "source": [
    "A = new_rand_A(100,95)\n",
    "A_2 = np.zeros((3,3))\n",
    "ev = 2\n",
    "for i in range(2):\n",
    "    for j in range(3):\n",
    "        A_2[i][j] = ev\n",
    "        ev = ev*2\n",
    "A_2[2,0] = 1\n",
    "A_2[2,1] = 2\n",
    "A_2[2,2] = 3\n",
    "\n",
    "#[[2,4,6],[4,8,16],[1,2,3]]"
   ]
  },
  {
   "cell_type": "code",
   "execution_count": 227,
   "id": "22a10159",
   "metadata": {},
   "outputs": [
    {
     "name": "stdout",
     "output_type": "stream",
     "text": [
      "current error 0.5584132679194133\n",
      "1.2580990682624237e-17\n",
      "estimated rank 2\n",
      "actual rank 2\n"
     ]
    },
    {
     "data": {
      "text/plain": [
       "'Q,R,k = RRQR(S_100, None)\\nprint(k)'"
      ]
     },
     "execution_count": 227,
     "metadata": {},
     "output_type": "execute_result"
    }
   ],
   "source": [
    "def RRQR(A, TOL=None):\n",
    "    Q,R,p = scipy.qr(A, pivoting=True)          #get qr decomposition with pivoting from scipy\n",
    "    pivoted_A = pivot_A(A,p)                    #pivot columns of A based on QR decomp\n",
    "    k = 1                                       #starting rank = 1\n",
    "    r_1 = R[0,:]                                #starting slices of the QR decomp, not important just for reference\n",
    "    r_11 = R[0,0]\n",
    "    r_22 = R[1:,1:]\n",
    "    q_1 = Q[:,0]\n",
    "    q_2 = Q[:,1:]\n",
    "    \n",
    "    '''test_r = np.zeros((2,len(R[0])))\n",
    "    test_q = np.zeros((len(Q), 2))\n",
    "    \n",
    "    for i in range(len(R[0])):\n",
    "        test_r[0][i] = R[0][i]\n",
    "        test_r[1][i] = R[1][i]\n",
    "        \n",
    "    for i in range(len(Q)):\n",
    "        test_q[i][0] = Q[i][0]\n",
    "        test_q[i][1] = Q[i][1]\n",
    "        \n",
    "        \n",
    "    print(test_r, test_q)\n",
    "    \n",
    "    \n",
    "    print(np.linalg.norm(pivoted_A - np.matmul(test_q, test_r), ord=2))'''\n",
    "    \n",
    "    if TOL == None:                             #arbitrary tolerance if none is given\n",
    "        TOL = 10e-5\n",
    "    \n",
    "    err = np.linalg.norm(r_22, ord=2)           #error is equal to norm of the part of the approximated matrix that is not used\n",
    "    while err > TOL and k<min(len(A), len(A[0])):\n",
    "        print(\"current error\", err)                              #while error is greater than tolerance, increase\n",
    "        k += 1                                  #increase rank\n",
    "        \n",
    "        r_1 = R[:k,:]                           #update slices\n",
    "        r_11 = R[:k,:k]\n",
    "        r_22 = R[k:,k:]\n",
    "        q_1 = Q[:,:k]\n",
    "        q_2 = Q[:,k:]\n",
    "        \n",
    "        if len(r_11[0]) == len(R[0]):           #if approximate array is max length of R, can't update error\n",
    "            None\n",
    "        else:\n",
    "            err = np.linalg.norm(r_22, ord=2)\n",
    "        \n",
    "    print(np.linalg.norm(r_22, ord=2))\n",
    "    \n",
    "    return k\n",
    "\n",
    "k = RRQR(A_2, None)\n",
    "print(\"estimated rank\",k)\n",
    "print(\"actual rank\", np.linalg.matrix_rank(A_2))\n",
    "'''Q,R,k = RRQR(S_100, None)\n",
    "print(k)'''"
   ]
  },
  {
   "cell_type": "code",
   "execution_count": 213,
   "id": "ed70b286",
   "metadata": {},
   "outputs": [
    {
     "ename": "IndexError",
     "evalue": "index 95 is out of bounds for axis 1 with size 95",
     "output_type": "error",
     "traceback": [
      "\u001b[1;31m---------------------------------------------------------------------------\u001b[0m",
      "\u001b[1;31mIndexError\u001b[0m                                Traceback (most recent call last)",
      "\u001b[1;32m<ipython-input-213-a131f30ffcb3>\u001b[0m in \u001b[0;36m<module>\u001b[1;34m\u001b[0m\n\u001b[0;32m     23\u001b[0m         \u001b[0mmax_col_index\u001b[0m \u001b[1;33m=\u001b[0m \u001b[0mint\u001b[0m\u001b[1;33m(\u001b[0m\u001b[0mnp\u001b[0m\u001b[1;33m.\u001b[0m\u001b[0mwhere\u001b[0m\u001b[1;33m(\u001b[0m\u001b[0mcolnrm\u001b[0m \u001b[1;33m==\u001b[0m \u001b[0mmax_col\u001b[0m\u001b[1;33m)\u001b[0m\u001b[1;33m[\u001b[0m\u001b[1;36m0\u001b[0m\u001b[1;33m]\u001b[0m\u001b[1;33m)\u001b[0m\u001b[1;33m\u001b[0m\u001b[1;33m\u001b[0m\u001b[0m\n\u001b[0;32m     24\u001b[0m \u001b[1;33m\u001b[0m\u001b[0m\n\u001b[1;32m---> 25\u001b[1;33m \u001b[0mRRQR\u001b[0m\u001b[1;33m(\u001b[0m\u001b[0mA\u001b[0m\u001b[1;33m,\u001b[0m \u001b[1;32mNone\u001b[0m\u001b[1;33m)\u001b[0m\u001b[1;33m\u001b[0m\u001b[1;33m\u001b[0m\u001b[0m\n\u001b[0m",
      "\u001b[1;32m<ipython-input-213-a131f30ffcb3>\u001b[0m in \u001b[0;36mRRQR\u001b[1;34m(A, TOL)\u001b[0m\n\u001b[0;32m     18\u001b[0m     \u001b[1;32mwhile\u001b[0m \u001b[0mj\u001b[0m \u001b[1;33m<\u001b[0m \u001b[0mn\u001b[0m \u001b[1;32mand\u001b[0m \u001b[0mmax_col\u001b[0m \u001b[1;33m>\u001b[0m \u001b[0mTOL\u001b[0m\u001b[1;33m:\u001b[0m\u001b[1;33m\u001b[0m\u001b[1;33m\u001b[0m\u001b[0m\n\u001b[0;32m     19\u001b[0m         \u001b[0mj\u001b[0m \u001b[1;33m+=\u001b[0m \u001b[1;36m1\u001b[0m\u001b[1;33m\u001b[0m\u001b[1;33m\u001b[0m\u001b[0m\n\u001b[1;32m---> 20\u001b[1;33m         \u001b[0mSwap\u001b[0m\u001b[1;33m(\u001b[0m\u001b[0mA\u001b[0m\u001b[1;33m,\u001b[0m\u001b[0mj\u001b[0m\u001b[1;33m,\u001b[0m\u001b[0mmax_col_index\u001b[0m\u001b[1;33m)\u001b[0m\u001b[1;33m\u001b[0m\u001b[1;33m\u001b[0m\u001b[0m\n\u001b[0m\u001b[0;32m     21\u001b[0m \u001b[1;33m\u001b[0m\u001b[0m\n\u001b[0;32m     22\u001b[0m         \u001b[0mmax_col\u001b[0m \u001b[1;33m=\u001b[0m \u001b[0mmax\u001b[0m\u001b[1;33m(\u001b[0m\u001b[0mcolnrm\u001b[0m\u001b[1;33m[\u001b[0m\u001b[0mj\u001b[0m\u001b[1;33m:\u001b[0m\u001b[1;33m]\u001b[0m\u001b[1;33m)\u001b[0m\u001b[1;33m\u001b[0m\u001b[1;33m\u001b[0m\u001b[0m\n",
      "\u001b[1;32m<ipython-input-191-8a6a4fff6540>\u001b[0m in \u001b[0;36mSwap\u001b[1;34m(arr, start_index, last_index)\u001b[0m\n\u001b[0;32m     28\u001b[0m \u001b[1;33m\u001b[0m\u001b[0m\n\u001b[0;32m     29\u001b[0m \u001b[1;32mdef\u001b[0m \u001b[0mSwap\u001b[0m\u001b[1;33m(\u001b[0m\u001b[0marr\u001b[0m\u001b[1;33m,\u001b[0m \u001b[0mstart_index\u001b[0m\u001b[1;33m,\u001b[0m \u001b[0mlast_index\u001b[0m\u001b[1;33m)\u001b[0m\u001b[1;33m:\u001b[0m\u001b[1;33m\u001b[0m\u001b[1;33m\u001b[0m\u001b[0m\n\u001b[1;32m---> 30\u001b[1;33m     \u001b[0marr\u001b[0m\u001b[1;33m[\u001b[0m\u001b[1;33m:\u001b[0m\u001b[1;33m,\u001b[0m \u001b[1;33m[\u001b[0m\u001b[0mstart_index\u001b[0m\u001b[1;33m,\u001b[0m \u001b[0mlast_index\u001b[0m\u001b[1;33m]\u001b[0m\u001b[1;33m]\u001b[0m \u001b[1;33m=\u001b[0m \u001b[0marr\u001b[0m\u001b[1;33m[\u001b[0m\u001b[1;33m:\u001b[0m\u001b[1;33m,\u001b[0m \u001b[1;33m[\u001b[0m\u001b[0mlast_index\u001b[0m\u001b[1;33m,\u001b[0m \u001b[0mstart_index\u001b[0m\u001b[1;33m]\u001b[0m\u001b[1;33m]\u001b[0m\u001b[1;33m\u001b[0m\u001b[1;33m\u001b[0m\u001b[0m\n\u001b[0m\u001b[0;32m     31\u001b[0m \u001b[1;33m\u001b[0m\u001b[0m\n\u001b[0;32m     32\u001b[0m \u001b[0mS_100\u001b[0m \u001b[1;33m=\u001b[0m \u001b[0msecretly_rank_k\u001b[0m\u001b[1;33m(\u001b[0m\u001b[1;36m100\u001b[0m\u001b[1;33m,\u001b[0m \u001b[1;36m3\u001b[0m\u001b[1;33m)\u001b[0m\u001b[1;33m\u001b[0m\u001b[1;33m\u001b[0m\u001b[0m\n",
      "\u001b[1;31mIndexError\u001b[0m: index 95 is out of bounds for axis 1 with size 95"
     ]
    }
   ],
   "source": [
    "'''THIRD TRY HAHA'''\n",
    "\n",
    "def RRQR(A, TOL=None):\n",
    "    m = len(A)                  #number of rows\n",
    "    n = len(A[0])               #number of cols\n",
    "    colnrm = np.zeros(n)\n",
    "    for j in range(n):          #insert values into column norm vector\n",
    "        colnrm[j] = np.linalg.norm(A[:,j], ord=2)\n",
    "    \n",
    "    max_col = max(colnrm)\n",
    "    max_col_index = int(np.where(colnrm == max_col)[0])\n",
    "    \n",
    "    if TOL == None:                             #arbitrary tolerance if none is given\n",
    "        TOL = 10e-5\n",
    "    \n",
    "    \n",
    "    j = 0\n",
    "    while j < n and max_col > TOL:\n",
    "        j += 1\n",
    "        Swap(A,j,max_col_index)\n",
    "        \n",
    "        max_col = max(colnrm[j:])\n",
    "        max_col_index = int(np.where(colnrm == max_col)[0])\n",
    "    \n",
    "RRQR(A, None)"
   ]
  },
  {
   "cell_type": "code",
   "execution_count": null,
   "id": "719615ea",
   "metadata": {},
   "outputs": [],
   "source": []
  }
 ],
 "metadata": {
  "kernelspec": {
   "display_name": "Python 3",
   "language": "python",
   "name": "python3"
  },
  "language_info": {
   "codemirror_mode": {
    "name": "ipython",
    "version": 3
   },
   "file_extension": ".py",
   "mimetype": "text/x-python",
   "name": "python",
   "nbconvert_exporter": "python",
   "pygments_lexer": "ipython3",
   "version": "3.8.8"
  }
 },
 "nbformat": 4,
 "nbformat_minor": 5
}
