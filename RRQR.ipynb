{
 "cells": [
  {
   "cell_type": "code",
   "execution_count": 27,
   "id": "d8b3f791",
   "metadata": {},
   "outputs": [],
   "source": [
    "import numpy as np\n",
    "import scipy.linalg as scipy"
   ]
  },
  {
   "cell_type": "code",
   "execution_count": 66,
   "id": "bb3c41c4",
   "metadata": {},
   "outputs": [
    {
     "name": "stdout",
     "output_type": "stream",
     "text": [
      "3525.3696008169063\n",
      "2841.5947780093775\n",
      "5083.678589368136\n"
     ]
    }
   ],
   "source": [
    "def new_rand_A(size_n, size_m):\n",
    "    A = np.zeros((size_n,size_m))\n",
    "    for i in range(size_n):\n",
    "        for j in range(size_m):\n",
    "            A[i][j] = np.random.randint(low=-9, high=9)\n",
    "    \n",
    "    return A\n",
    "\n",
    "A_10 = new_rand_A(10,10)\n",
    "A_100 = new_rand_A(100,100)\n",
    "\n",
    "def secretly_rank_k(size_n, size_k):\n",
    "    a = np.zeros((size_n,size_k))\n",
    "    b = np.zeros((size_k, size_n))\n",
    "    \n",
    "    for i in range(size_n):\n",
    "        for j in range(size_k):\n",
    "            a[i][j] = np.random.randint(low=-9, high=9)\n",
    "            b[j][i] = np.random.randint(low=-9, high=9)\n",
    "            \n",
    "    return np.matmul(a, b)\n",
    "\n",
    "S_100 = secretly_rank_k(100, 3)\n",
    "Q,R,k = RRQR(S_100, None)\n",
    "u,s,v = np.linalg.svd(S_100)\n",
    "print(np.linalg.norm(S_100, ord=2))\n",
    "print(np.linalg.norm(np.matmul(Q,R), ord=2))\n",
    "print(np.linalg.norm(s, ord=2))"
   ]
  },
  {
   "cell_type": "code",
   "execution_count": 60,
   "id": "8007a1c7",
   "metadata": {},
   "outputs": [],
   "source": [
    "'''TEST CELL'''\n",
    "\n",
    "'''diagonal = np.diagonal(R)\n",
    "norm = np.linalg.norm(new_A, ord=2)\n",
    "normR = np.linalg.norm(R, ord=2)\n",
    "print(norm, normR)'''\n",
    "\n",
    "test = [[1,2,3],[4,5,6],[7,8,9]]\n",
    "new = [[3,1,2], [6,4,5], [9,7,8]]\n",
    "qr_new = scipy.qr(new)\n",
    "#print(\"adjusted matrix\",qr_new[1])\n",
    "\n",
    "\n",
    "qr_test = scipy.qr(test)\n",
    "#print(\"no pivot\",qr_test[1])\n",
    "\n",
    "qr_test = scipy.qr(test, pivoting=True)\n",
    "#print(qr_test[2])\n",
    "#print(\"pivot\", qr_test[1])\n",
    "\n",
    "qr_A = scipy.qr(A_100, pivoting=True)\n",
    "Q = qr_A[0]\n",
    "R = qr_A[1]"
   ]
  },
  {
   "cell_type": "code",
   "execution_count": 57,
   "id": "a06d3dbe",
   "metadata": {},
   "outputs": [
    {
     "name": "stdout",
     "output_type": "stream",
     "text": [
      "43\n",
      "60\n"
     ]
    }
   ],
   "source": [
    "def RRQR(A, TOL=None):\n",
    "    qr_A = scipy.qr(A, pivoting=True)\n",
    "    Q = qr_A[0]\n",
    "    R = qr_A[1]\n",
    "    \n",
    "    k = 1\n",
    "    if TOL == None:\n",
    "        TOL = np.linalg.norm(A, ord=2)/5\n",
    "    M = R[0][0]\n",
    "    size_A = np.linalg.norm(A, ord=2)\n",
    "    size_M = abs(R[0][0])\n",
    "    while abs(size_A - size_M) > TOL and k<min(len(A), len(A[0])):\n",
    "        k += 1\n",
    "        M = np.zeros((k,k))\n",
    "        M = R[:k,:k]\n",
    "        for i in range(k):\n",
    "            for j in range(k):\n",
    "                M[i][j] = R[i][j]\n",
    "        size_M = np.linalg.norm(M, ord=2)\n",
    "    \n",
    "    new_Q = np.zeros((len(A),k))\n",
    "    for i in range(len(A)):\n",
    "        for j in range(k):    \n",
    "            new_Q[i][j] = Q[i][j]\n",
    "            \n",
    "    return new_Q,M,k\n",
    "\n",
    "Q,R,k = RRQR(A_100, None)\n",
    "print(k)\n",
    "Q,R,k = RRQR(S_100, None)\n",
    "print(k)"
   ]
  },
  {
   "cell_type": "code",
   "execution_count": null,
   "id": "22a10159",
   "metadata": {},
   "outputs": [],
   "source": []
  }
 ],
 "metadata": {
  "kernelspec": {
   "display_name": "Python 3",
   "language": "python",
   "name": "python3"
  },
  "language_info": {
   "codemirror_mode": {
    "name": "ipython",
    "version": 3
   },
   "file_extension": ".py",
   "mimetype": "text/x-python",
   "name": "python",
   "nbconvert_exporter": "python",
   "pygments_lexer": "ipython3",
   "version": "3.8.8"
  }
 },
 "nbformat": 4,
 "nbformat_minor": 5
}
