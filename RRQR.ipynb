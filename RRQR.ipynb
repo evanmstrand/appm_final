{
 "cells": [
  {
   "cell_type": "code",
   "execution_count": 2,
   "id": "d8b3f791",
   "metadata": {},
   "outputs": [],
   "source": [
    "import numpy as np\n",
    "import scipy.linalg as scipy"
   ]
  },
  {
   "cell_type": "code",
   "execution_count": 3,
   "id": "bb3c41c4",
   "metadata": {},
   "outputs": [],
   "source": [
    "def new_rand_A(size_n, size_m):\n",
    "    A = np.zeros((size_n,size_m))\n",
    "    for i in range(size_n):\n",
    "        for j in range(size_m):\n",
    "            A[i][j] = np.random.randint(low=0, high=9)\n",
    "    \n",
    "    return A\n",
    "\n",
    "A_10 = new_rand_A(10,8)\n",
    "A_100 = new_rand_A(100,100)\n",
    "\n",
    "def secretly_rank_k(size_n, size_k):\n",
    "    a = np.zeros((size_n,size_k))\n",
    "    b = np.zeros((size_k, size_n))\n",
    "    \n",
    "    for i in range(size_n):\n",
    "        for j in range(size_k):\n",
    "            a[i][j] = np.random.randint(low=-9, high=9)\n",
    "            b[j][i] = np.random.randint(low=-9, high=9)\n",
    "    \n",
    "    part = int(size_n/2)\n",
    "    choice = np.random.choice(range(1,part))\n",
    "    return np.matmul(a, b)[:,choice:]\n",
    "\n",
    "def pivot_A(A, p):\n",
    "    new_A = np.zeros((len(A),len(A[0])))\n",
    "    for col in range(len(p)):\n",
    "        new_A[:,col] = A[:,p[col]]\n",
    "    return new_A\n",
    "\n",
    "def Swap(arr, start_index, last_index):\n",
    "    arr[:, [start_index, last_index]] = arr[:, [last_index, start_index]]\n",
    "\n",
    "S_100 = secretly_rank_k(100, 3)\n",
    "Q,R,p = scipy.qr(A_10, pivoting=True)\n",
    "u,s,v = np.linalg.svd(S_100)\n"
   ]
  },
  {
   "cell_type": "code",
   "execution_count": 4,
   "id": "8007a1c7",
   "metadata": {},
   "outputs": [],
   "source": [
    "def apx_rank_k(size_n, rank, TOL_ord):\n",
    "    a = np.zeros((size_n,size_n))\n",
    "    b = np.zeros((size_n, size_n))\n",
    "    for i in range(size_n):\n",
    "        for j in range(size_n):\n",
    "            a[i][j] = np.random.randint(low=-9, high=9)\n",
    "            b[j][i] = np.random.randint(low=-9, high=9)\n",
    "            \n",
    "    U,R = scipy.qr(a)\n",
    "    V,R = scipy.qr(b)\n",
    "    TOL_ord = TOL_ord- 1\n",
    "    rang = np.linspace(rank-TOL_ord,-size_n + rank - TOL_ord, size_n)\n",
    "    singular_vals = []\n",
    "    for i in rang:\n",
    "        singular_vals.append(10**i)\n",
    "    s = np.diag(singular_vals)\n",
    "    matrix = np.matmul(U,s,V)\n",
    "    return matrix"
   ]
  },
  {
   "cell_type": "code",
   "execution_count": 7,
   "id": "9719d5b7",
   "metadata": {},
   "outputs": [],
   "source": [
    "A = new_rand_A(100,95)\n",
    "S = secretly_rank_k(100, 10)\n",
    "A_2 = np.zeros((3,3))\n",
    "ev = 2\n",
    "for i in range(2):\n",
    "    for j in range(3):\n",
    "        A_2[i][j] = ev\n",
    "        ev = ev*2\n",
    "A_2[2,0] = 1\n",
    "A_2[2,1] = 2\n",
    "A_2[2,2] = 3"
   ]
  },
  {
   "cell_type": "code",
   "execution_count": 8,
   "id": "22a10159",
   "metadata": {},
   "outputs": [
    {
     "name": "stdout",
     "output_type": "stream",
     "text": [
      "estimated rank 2\n",
      "actual rank 2\n",
      "estimated rank 10\n",
      "actual rank 10\n"
     ]
    },
    {
     "data": {
      "text/plain": [
       "'Q,R,k = RRQR(S_100, None)\\nprint(k)'"
      ]
     },
     "execution_count": 8,
     "metadata": {},
     "output_type": "execute_result"
    }
   ],
   "source": [
    "def RRQR_1(A, TOL=None):\n",
    "    Q,R,p = scipy.qr(A, pivoting=True)          #get qr decomposition with pivoting from scipy\n",
    "    pivoted_A = pivot_A(A,p)                    #pivot columns of A based on QR decomp\n",
    "    k = 1                                       #starting rank = 1\n",
    "    r_1 = R[0,:]                                #starting slices of the QR decomp, not important just for reference\n",
    "    r_11 = R[0,0]\n",
    "    r_22 = R[1:,1:]\n",
    "    q_1 = Q[:,0]\n",
    "    q_2 = Q[:,1:]\n",
    "    \n",
    "    if TOL == None:                             #default tolerance if none is given\n",
    "        TOL = 10e-5\n",
    "    \n",
    "    err = np.linalg.norm(r_22, ord=2)           #error is equal to norm of the part of the approximated matrix that is not used\n",
    "    while err > TOL and k<min(len(A), len(A[0])):\n",
    "        #print(\"current rank, error\",k, err)                              #while error is greater than tolerance, increase\n",
    "        k += 1                                  #increase rank\n",
    "        \n",
    "        r_1 = R[:k,:]                           #update slices\n",
    "        r_11 = R[:k,:k]\n",
    "        r_22 = R[k:,k:]\n",
    "        q_1 = Q[:,:k]\n",
    "        q_2 = Q[:,k:]\n",
    "        \n",
    "        if len(r_11[0]) == len(R[0]):           #if approximate array is max length of R, can't update error\n",
    "            None\n",
    "        else:\n",
    "            err = np.linalg.norm(r_22, ord=2)\n",
    "        \n",
    "    #print(\"final error: \",np.linalg.norm(r_22, ord=2))\n",
    "    \n",
    "    return k\n",
    "\n",
    "k = RRQR_1(A_2, None)\n",
    "print(\"estimated rank\",k)\n",
    "print(\"actual rank\", np.linalg.matrix_rank(A_2))\n",
    "\n",
    "k = RRQR_1(S, None)\n",
    "print(\"estimated rank\",k)\n",
    "print(\"actual rank\", np.linalg.matrix_rank(S))\n",
    "'''Q,R,k = RRQR(S_100, None)\n",
    "print(k)'''"
   ]
  },
  {
   "cell_type": "code",
   "execution_count": 10,
   "id": "6739f913",
   "metadata": {},
   "outputs": [
    {
     "name": "stdout",
     "output_type": "stream",
     "text": [
      "14\n",
      "20\n"
     ]
    }
   ],
   "source": [
    "'''TEST CELL FOR ABOVE'''\n",
    "\n",
    "'''for i in range(10000):\n",
    "    counter = 0\n",
    "    random_m = np.random.choice(range(50,100))\n",
    "    random_k = np.random.choice(range(1,50))\n",
    "    S = secretly_rank_k(random_m, random_k)\n",
    "    rrqr = RRQR_1(S, TOL = 10e-10)\n",
    "    svd = np.linalg.matrix_rank(S)\n",
    "    if rrqr != svd:\n",
    "        print(\"wrong!\")\n",
    "        \n",
    "print(\"done\")'''\n",
    "\n",
    "apx = apx_rank_k(100, 20, 5)\n",
    "rrqr = RRQR_1(apx, TOL = 7e-5)\n",
    "print(np.linalg.matrix_rank(apx))\n",
    "print(rrqr)"
   ]
  },
  {
   "cell_type": "code",
   "execution_count": 213,
   "id": "8ebd359e",
   "metadata": {},
   "outputs": [
    {
     "ename": "IndexError",
     "evalue": "index 95 is out of bounds for axis 1 with size 95",
     "output_type": "error",
     "traceback": [
      "\u001b[1;31m---------------------------------------------------------------------------\u001b[0m",
      "\u001b[1;31mIndexError\u001b[0m                                Traceback (most recent call last)",
      "\u001b[1;32m<ipython-input-213-a131f30ffcb3>\u001b[0m in \u001b[0;36m<module>\u001b[1;34m\u001b[0m\n\u001b[0;32m     23\u001b[0m         \u001b[0mmax_col_index\u001b[0m \u001b[1;33m=\u001b[0m \u001b[0mint\u001b[0m\u001b[1;33m(\u001b[0m\u001b[0mnp\u001b[0m\u001b[1;33m.\u001b[0m\u001b[0mwhere\u001b[0m\u001b[1;33m(\u001b[0m\u001b[0mcolnrm\u001b[0m \u001b[1;33m==\u001b[0m \u001b[0mmax_col\u001b[0m\u001b[1;33m)\u001b[0m\u001b[1;33m[\u001b[0m\u001b[1;36m0\u001b[0m\u001b[1;33m]\u001b[0m\u001b[1;33m)\u001b[0m\u001b[1;33m\u001b[0m\u001b[1;33m\u001b[0m\u001b[0m\n\u001b[0;32m     24\u001b[0m \u001b[1;33m\u001b[0m\u001b[0m\n\u001b[1;32m---> 25\u001b[1;33m \u001b[0mRRQR\u001b[0m\u001b[1;33m(\u001b[0m\u001b[0mA\u001b[0m\u001b[1;33m,\u001b[0m \u001b[1;32mNone\u001b[0m\u001b[1;33m)\u001b[0m\u001b[1;33m\u001b[0m\u001b[1;33m\u001b[0m\u001b[0m\n\u001b[0m",
      "\u001b[1;32m<ipython-input-213-a131f30ffcb3>\u001b[0m in \u001b[0;36mRRQR\u001b[1;34m(A, TOL)\u001b[0m\n\u001b[0;32m     18\u001b[0m     \u001b[1;32mwhile\u001b[0m \u001b[0mj\u001b[0m \u001b[1;33m<\u001b[0m \u001b[0mn\u001b[0m \u001b[1;32mand\u001b[0m \u001b[0mmax_col\u001b[0m \u001b[1;33m>\u001b[0m \u001b[0mTOL\u001b[0m\u001b[1;33m:\u001b[0m\u001b[1;33m\u001b[0m\u001b[1;33m\u001b[0m\u001b[0m\n\u001b[0;32m     19\u001b[0m         \u001b[0mj\u001b[0m \u001b[1;33m+=\u001b[0m \u001b[1;36m1\u001b[0m\u001b[1;33m\u001b[0m\u001b[1;33m\u001b[0m\u001b[0m\n\u001b[1;32m---> 20\u001b[1;33m         \u001b[0mSwap\u001b[0m\u001b[1;33m(\u001b[0m\u001b[0mA\u001b[0m\u001b[1;33m,\u001b[0m\u001b[0mj\u001b[0m\u001b[1;33m,\u001b[0m\u001b[0mmax_col_index\u001b[0m\u001b[1;33m)\u001b[0m\u001b[1;33m\u001b[0m\u001b[1;33m\u001b[0m\u001b[0m\n\u001b[0m\u001b[0;32m     21\u001b[0m \u001b[1;33m\u001b[0m\u001b[0m\n\u001b[0;32m     22\u001b[0m         \u001b[0mmax_col\u001b[0m \u001b[1;33m=\u001b[0m \u001b[0mmax\u001b[0m\u001b[1;33m(\u001b[0m\u001b[0mcolnrm\u001b[0m\u001b[1;33m[\u001b[0m\u001b[0mj\u001b[0m\u001b[1;33m:\u001b[0m\u001b[1;33m]\u001b[0m\u001b[1;33m)\u001b[0m\u001b[1;33m\u001b[0m\u001b[1;33m\u001b[0m\u001b[0m\n",
      "\u001b[1;32m<ipython-input-191-8a6a4fff6540>\u001b[0m in \u001b[0;36mSwap\u001b[1;34m(arr, start_index, last_index)\u001b[0m\n\u001b[0;32m     28\u001b[0m \u001b[1;33m\u001b[0m\u001b[0m\n\u001b[0;32m     29\u001b[0m \u001b[1;32mdef\u001b[0m \u001b[0mSwap\u001b[0m\u001b[1;33m(\u001b[0m\u001b[0marr\u001b[0m\u001b[1;33m,\u001b[0m \u001b[0mstart_index\u001b[0m\u001b[1;33m,\u001b[0m \u001b[0mlast_index\u001b[0m\u001b[1;33m)\u001b[0m\u001b[1;33m:\u001b[0m\u001b[1;33m\u001b[0m\u001b[1;33m\u001b[0m\u001b[0m\n\u001b[1;32m---> 30\u001b[1;33m     \u001b[0marr\u001b[0m\u001b[1;33m[\u001b[0m\u001b[1;33m:\u001b[0m\u001b[1;33m,\u001b[0m \u001b[1;33m[\u001b[0m\u001b[0mstart_index\u001b[0m\u001b[1;33m,\u001b[0m \u001b[0mlast_index\u001b[0m\u001b[1;33m]\u001b[0m\u001b[1;33m]\u001b[0m \u001b[1;33m=\u001b[0m \u001b[0marr\u001b[0m\u001b[1;33m[\u001b[0m\u001b[1;33m:\u001b[0m\u001b[1;33m,\u001b[0m \u001b[1;33m[\u001b[0m\u001b[0mlast_index\u001b[0m\u001b[1;33m,\u001b[0m \u001b[0mstart_index\u001b[0m\u001b[1;33m]\u001b[0m\u001b[1;33m]\u001b[0m\u001b[1;33m\u001b[0m\u001b[1;33m\u001b[0m\u001b[0m\n\u001b[0m\u001b[0;32m     31\u001b[0m \u001b[1;33m\u001b[0m\u001b[0m\n\u001b[0;32m     32\u001b[0m \u001b[0mS_100\u001b[0m \u001b[1;33m=\u001b[0m \u001b[0msecretly_rank_k\u001b[0m\u001b[1;33m(\u001b[0m\u001b[1;36m100\u001b[0m\u001b[1;33m,\u001b[0m \u001b[1;36m3\u001b[0m\u001b[1;33m)\u001b[0m\u001b[1;33m\u001b[0m\u001b[1;33m\u001b[0m\u001b[0m\n",
      "\u001b[1;31mIndexError\u001b[0m: index 95 is out of bounds for axis 1 with size 95"
     ]
    }
   ],
   "source": [
    "'''THIRD TRY HAHA'''\n",
    "\n",
    "def RRQR_2(A, TOL=None):\n",
    "    m = len(A)                  #number of rows\n",
    "    n = len(A[0])               #number of cols\n",
    "    colnrm = np.zeros(n)\n",
    "    for j in range(n):          #insert values into column norm vector\n",
    "        colnrm[j] = np.linalg.norm(A[:,j], ord=2)\n",
    "    \n",
    "    max_col = max(colnrm)\n",
    "    max_col_index = int(np.where(colnrm == max_col)[0])\n",
    "    \n",
    "    if TOL == None:                             #arbitrary tolerance if none is given\n",
    "        TOL = 10e-5\n",
    "    \n",
    "    j = 0\n",
    "    while j < n and max_col > TOL:\n",
    "        j += 1\n",
    "        Swap(A,j,max_col_index)\n",
    "        \n",
    "        max_col = max(colnrm[j:])\n",
    "        max_col_index = int(np.where(colnrm == max_col)[0])\n",
    "    \n",
    "RRQR_2(A, None)"
   ]
  },
  {
   "cell_type": "code",
   "execution_count": null,
   "id": "96f014d1",
   "metadata": {},
   "outputs": [],
   "source": [
    "'''interpolative decomposition whee'''\n",
    "\n",
    "def interdecomp(A, k) '''this k here MUST be the same k that we previously found in our algorithms :)'''\n",
    "{\n",
    "`   '''we want to start with QR '''\n",
    "    Q, R = scipy.linalg.qr(A);\n",
    "    '''separating our R matrix into R11 and R12; we are disregarding the R22 this time around because its not actually part of the factorization'''\n",
    "    R11 = R[:k,:k];\n",
    "    R12 = R[:k,(k+1):]; '''we still have k rows, but we want to have k+1 to the end columns'''\n",
    "    '''now our T is equal to R11^-1 times R12 and our I is just an identity matrix of size k and A1 is the first k columns of our matrix A'''\n",
    "    '''interpolative decomp = A1 * I_k + T'''\n",
    "    A1 = A[:,:k] '''all the rows but k columns'''\n",
    "    R11inverse  = np.linalg.inv(R11);\n",
    "    T = np.dot(R11inverse, R12);\n",
    "    Ik = numpy.identity(k);\n",
    "    return A1, Ik, T;      \n",
    "}"
   ]
  }
 ],
 "metadata": {
  "kernelspec": {
   "display_name": "Python 3",
   "language": "python",
   "name": "python3"
  },
  "language_info": {
   "codemirror_mode": {
    "name": "ipython",
    "version": 3
   },
   "file_extension": ".py",
   "mimetype": "text/x-python",
   "name": "python",
   "nbconvert_exporter": "python",
   "pygments_lexer": "ipython3",
   "version": "3.8.8"
  }
 },
 "nbformat": 4,
 "nbformat_minor": 5
}
