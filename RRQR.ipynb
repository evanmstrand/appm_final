{
 "cells": [
  {
   "cell_type": "code",
   "execution_count": 84,
   "id": "d8b3f791",
   "metadata": {},
   "outputs": [],
   "source": [
    "import numpy as np\n",
    "import scipy.linalg as scipy\n",
    "import matplotlib.pyplot as plt"
   ]
  },
  {
   "cell_type": "code",
   "execution_count": 85,
   "id": "bb3c41c4",
   "metadata": {},
   "outputs": [],
   "source": [
    "def new_rand_A(size_n, size_m):\n",
    "    A = np.zeros((size_n,size_m))\n",
    "    for i in range(size_n):\n",
    "        for j in range(size_m):\n",
    "            A[i][j] = np.random.randint(low=0, high=9)\n",
    "    \n",
    "    return A\n",
    "\n",
    "A_10 = new_rand_A(10,8)\n",
    "A_100 = new_rand_A(100,100)\n",
    "\n",
    "def secretly_rank_k(size_n, size_k):\n",
    "    a = np.zeros((size_n,size_k))\n",
    "    b = np.zeros((size_k, size_n))\n",
    "    \n",
    "    for i in range(size_n):\n",
    "        for j in range(size_k):\n",
    "            a[i][j] = np.random.randint(low=-9, high=9)\n",
    "            b[j][i] = np.random.randint(low=-9, high=9)\n",
    "    \n",
    "    part = int(size_n/2)\n",
    "    choice = np.random.choice(range(1,part))\n",
    "    return np.matmul(a, b)[:,choice:]\n",
    "\n",
    "def pivot_A(A, p):\n",
    "    new_A = np.zeros((len(A),len(A[0])))\n",
    "    for col in range(len(p)):\n",
    "        new_A[:,col] = A[:,p[col]]\n",
    "    return new_A\n",
    "\n",
    "def Swap(arr, j, max_index):\n",
    "    #arr[:, [start_index, last_index]] = arr[:, [last_index, start_index]]\n",
    "    j_col = arr[:][j]\n",
    "    max_col = arr[:][max_index]\n",
    "    newarr = np.copy(arr)\n",
    "    newarr[:][j] = j_col\n",
    "    newarr[:][max_index] = max_col\n",
    "    \n",
    "    return newarr\n",
    "\n",
    "S_100 = secretly_rank_k(100, 3)\n",
    "Q,R,p = scipy.qr(A_10, pivoting=True)\n",
    "u,s,v = np.linalg.svd(S_100)\n"
   ]
  },
  {
   "cell_type": "code",
   "execution_count": 86,
   "id": "8007a1c7",
   "metadata": {},
   "outputs": [],
   "source": [
    "def apx_rank_k(size_n, rank, TOL_ord):\n",
    "    a = np.zeros((size_n,size_n))\n",
    "    b = np.zeros((size_n, size_n))\n",
    "    for i in range(size_n):\n",
    "        for j in range(size_n):\n",
    "            a[i][j] = np.random.randint(low=-9, high=9)\n",
    "            b[j][i] = np.random.randint(low=-9, high=9)\n",
    "            \n",
    "    U,R = scipy.qr(a)\n",
    "    V,R = scipy.qr(b)\n",
    "    #TOL_ord = TOL_ord - 2\n",
    "    rang = np.linspace(rank-TOL_ord,-size_n + rank - TOL_ord, size_n)\n",
    "    singular_vals = []\n",
    "    for i in rang:\n",
    "        singular_vals.append(10**i)\n",
    "    for i in range(len(singular_vals)):\n",
    "        #print(\"rank:\", i+1, \"value:\", singular_vals[i])\n",
    "        None\n",
    "    s = np.diag(singular_vals)\n",
    "    matrix = np.matmul(U,s,V)\n",
    "    return matrix"
   ]
  },
  {
   "cell_type": "code",
   "execution_count": 87,
   "id": "9719d5b7",
   "metadata": {},
   "outputs": [],
   "source": [
    "A = new_rand_A(100,95)\n",
    "S = secretly_rank_k(100, 10)\n",
    "A_2 = np.zeros((3,3))\n",
    "ev = 2\n",
    "for i in range(2):\n",
    "    for j in range(3):\n",
    "        A_2[i][j] = ev\n",
    "        ev = ev*2\n",
    "A_2[2,0] = 1\n",
    "A_2[2,1] = 2\n",
    "A_2[2,2] = 3"
   ]
  },
  {
   "cell_type": "code",
   "execution_count": 88,
   "id": "22a10159",
   "metadata": {},
   "outputs": [
    {
     "name": "stdout",
     "output_type": "stream",
     "text": [
      "estimated rank 2\n",
      "actual rank 2\n",
      "estimated rank 10\n",
      "actual rank 10\n"
     ]
    },
    {
     "data": {
      "text/plain": [
       "'Q,R,k = RRQR(S_100, None)\\nprint(k)'"
      ]
     },
     "execution_count": 88,
     "metadata": {},
     "output_type": "execute_result"
    }
   ],
   "source": [
    "def RRQR_1(A, TOL=None):\n",
    "    Q,R,p = scipy.qr(A, pivoting=True)          #get qr decomposition with pivoting from scipy\n",
    "    pivoted_A = pivot_A(A,p)                    #pivot columns of A based on QR decomp\n",
    "    k = 1                                       #starting rank = 1\n",
    "    r_1 = R[0,:]                                #starting slices of the QR decomp, not important just for reference\n",
    "    r_11 = R[0,0]\n",
    "    r_22 = R[1:,1:]\n",
    "    q_1 = Q[:,0]\n",
    "    q_2 = Q[:,1:]\n",
    "    \n",
    "    if TOL == None:                             #default tolerance if none is given\n",
    "        TOL = 10e-5\n",
    "    \n",
    "    err = np.linalg.norm(r_22, ord=2)           #error is equal to norm of the part of the approximated matrix that is not used\n",
    "    while err > TOL and k<min(len(A), len(A[0])):\n",
    "        #print(\"current rank, error\",k, err)                              #while error is greater than tolerance, increase\n",
    "        k += 1                                  #increase rank\n",
    "        \n",
    "        r_1 = R[:k,:]                           #update slices\n",
    "        r_11 = R[:k,:k]\n",
    "        r_22 = R[k:,k:]\n",
    "        q_1 = Q[:,:k]\n",
    "        q_2 = Q[:,k:]\n",
    "        \n",
    "        if len(r_11[0]) == len(R[0]):           #if approximate array is max length of R, can't update error\n",
    "            None\n",
    "        else:\n",
    "            err = np.linalg.norm(r_22, ord=2)\n",
    "        \n",
    "    #print(\"final error: \",np.linalg.norm(r_22, ord=2))\n",
    "    \n",
    "    return k\n",
    "\n",
    "k = RRQR_1(A_2, None)\n",
    "print(\"estimated rank\",k)\n",
    "print(\"actual rank\", np.linalg.matrix_rank(A_2))\n",
    "\n",
    "k = RRQR_1(S, None)\n",
    "print(\"estimated rank\",k)\n",
    "print(\"actual rank\", np.linalg.matrix_rank(S))\n",
    "'''Q,R,k = RRQR(S_100, None)\n",
    "print(k)'''"
   ]
  },
  {
   "cell_type": "code",
   "execution_count": 89,
   "id": "6739f913",
   "metadata": {},
   "outputs": [
    {
     "ename": "TypeError",
     "evalue": "cannot unpack non-iterable int object",
     "output_type": "error",
     "traceback": [
      "\u001b[1;31m---------------------------------------------------------------------------\u001b[0m",
      "\u001b[1;31mTypeError\u001b[0m                                 Traceback (most recent call last)",
      "\u001b[1;32m<ipython-input-89-31ea32c563cc>\u001b[0m in \u001b[0;36m<module>\u001b[1;34m\u001b[0m\n\u001b[0;32m     29\u001b[0m print(\"avg difference\", counter/1000)'''\n\u001b[0;32m     30\u001b[0m \u001b[1;33m\u001b[0m\u001b[0m\n\u001b[1;32m---> 31\u001b[1;33m \u001b[0mrank\u001b[0m\u001b[1;33m,\u001b[0m \u001b[0marr\u001b[0m \u001b[1;33m=\u001b[0m \u001b[0mRRQR_1\u001b[0m\u001b[1;33m(\u001b[0m\u001b[0mS\u001b[0m\u001b[1;33m,\u001b[0m\u001b[1;36m10e-10\u001b[0m\u001b[1;33m)\u001b[0m\u001b[1;33m\u001b[0m\u001b[1;33m\u001b[0m\u001b[0m\n\u001b[0m\u001b[0;32m     32\u001b[0m \u001b[0mplt\u001b[0m\u001b[1;33m.\u001b[0m\u001b[0mplot\u001b[0m\u001b[1;33m(\u001b[0m\u001b[0mrange\u001b[0m\u001b[1;33m(\u001b[0m\u001b[0mlen\u001b[0m\u001b[1;33m(\u001b[0m\u001b[0marr\u001b[0m\u001b[1;33m)\u001b[0m\u001b[1;33m)\u001b[0m\u001b[1;33m,\u001b[0m \u001b[0marr\u001b[0m\u001b[1;33m)\u001b[0m\u001b[1;33m\u001b[0m\u001b[1;33m\u001b[0m\u001b[0m\n",
      "\u001b[1;31mTypeError\u001b[0m: cannot unpack non-iterable int object"
     ]
    }
   ],
   "source": [
    "'''TEST CELL FOR ABOVE'''\n",
    "'''TEST FOR EXACTLY RANK K'''\n",
    "'''counter = 0\n",
    "for i in range(1000):\n",
    "    counter = 0\n",
    "    random_m = np.random.choice(range(50,100))\n",
    "    random_k = np.random.choice(range(1,50))\n",
    "    S = secretly_rank_k(random_m, random_k)\n",
    "    rrqr = RRQR_1(S, TOL = 10e-10)\n",
    "    svd = np.linalg.matrix_rank(S)\n",
    "    #print(rrqr, svd)\n",
    "    if rrqr != svd:\n",
    "        print(\"wrong!\")\n",
    "        counter += 1\n",
    "        \n",
    "print(\"accuracy:\", (1000-counter)/1000)\n",
    "'''\n",
    "'''TEST FOR APPROXIMATELY RANK K'''\n",
    "\n",
    "'''counter = 0\n",
    "for i in range(1000):\n",
    "    random_m = np.random.choice(range(50,100))\n",
    "    random_k = np.random.choice(range(1,50))\n",
    "    apx = apx_rank_k(random_m, random_k, 10)\n",
    "    res = RRQR_1(apx, TOL = 10e-10)\n",
    "    counter += abs(random_k - res)\n",
    "    if i%100 == 0:\n",
    "        print(i)\n",
    "print(\"avg difference\", counter/1000)'''\n",
    "\n",
    "rank, arr = RRQR_1(S,10e-10)\n",
    "plt.plot(range(len(arr)), arr)"
   ]
  },
  {
   "cell_type": "code",
   "execution_count": 90,
   "id": "8ebd359e",
   "metadata": {},
   "outputs": [
    {
     "data": {
      "text/plain": [
       "93"
      ]
     },
     "execution_count": 90,
     "metadata": {},
     "output_type": "execute_result"
    }
   ],
   "source": [
    "'''RRQR with column pivoting using householder'''\n",
    "'''FAIL'''\n",
    "#https://codereview.stackexchange.com/questions/171503/implementation-of-the-householder-transformation\n",
    "def householder(A):\n",
    "    (n,m)=A.shape\n",
    "    p=min(n,m)\n",
    "    alpha=np.zeros(m)\n",
    "    for j in range(0,p):\n",
    "        alpha[j]=np.linalg.norm(A[j:,j])*np.sign(A[j,j])\n",
    "        if (alpha[j]!=0):\n",
    "            beta=1/np.sqrt(2*alpha[j]*(alpha[j]+A[j,j]))\n",
    "            A[j,j]=beta*(A[j,j]+alpha[j])\n",
    "            A[j+1:,j]=beta*A[j+1:,j]\n",
    "            for k in range(j+1,m):\n",
    "                gamma=2*A[j:,j].dot(A[j:,k])\n",
    "                A[j:,k]=A[j:,k]-gamma*A[j:,j]\n",
    "    return A,alpha\n",
    "\n",
    "def RRQR_2(A, TOL=None):\n",
    "    m = len(A)                  #number of rows\n",
    "    n = len(A[0])               #number of cols\n",
    "    colnrm = np.zeros(n)\n",
    "    for j in range(n):          #insert values into column norm vector\n",
    "        colnrm[j] = np.linalg.norm(A[:,j], ord=2)\n",
    "    \n",
    "    max_col = max(colnrm)\n",
    "    max_col_index = np.argmax(colnrm)\n",
    "    \n",
    "    if TOL == None:                             #arbitrary tolerance if none is given\n",
    "        TOL = 10e-5\n",
    "    \n",
    "    j = 0\n",
    "    while j < n and max_col > TOL:\n",
    "        A = Swap(A,j,max_col_index)\n",
    "        colnrm = Swap(colnrm, j, max_col_index)\n",
    "        \n",
    "        A[j:m, j+1:n] = householder(A[j:m, j+1:n])[0]\n",
    "        colnrm[j+1:n] -= (A[j, j+1:n])**2\n",
    "        \n",
    "        max_col = max(abs(colnrm[j:]))\n",
    "        max_col_index = np.argmax(colnrm)\n",
    "        j += 1\n",
    "    return j\n",
    "A = apx_rank_k(30,7, 10)\n",
    "RRQR_2(S, 10e-10)"
   ]
  },
  {
   "cell_type": "code",
   "execution_count": 91,
   "id": "96f014d1",
   "metadata": {},
   "outputs": [
    {
     "data": {
      "text/plain": [
       "'all the rows but k columns'"
      ]
     },
     "execution_count": 91,
     "metadata": {},
     "output_type": "execute_result"
    }
   ],
   "source": [
    "'''interpolative decomposition whee'''\n",
    "\n",
    "def interdecomp(A, k):\n",
    "    Q,R = np.linalg.qr(A); '''we want to start with QR '''\n",
    "    '''separating our R matrix into R11 and R12; we are disregarding the R22 this time around because its not actually part of the factorization'''\n",
    "    R11 = R[:k,:k];\n",
    "    R12 = R[:k,(k+1):]; \n",
    "    A1 = A[:,:k] \n",
    "    R11inverse  = np.linalg.inv(R11);\n",
    "    T = np.dot(R11inverse, R12);\n",
    "    Ik = np.identity(k);\n",
    "    return A1, Ik, T;      \n",
    "\n",
    "'''we still have k rows, but we want to have k+1 to the end columns'''\n",
    "'''now our T is equal to R11^-1 times R12 and our I is just an identity matrix of size k and A1 is the first k columns of our matrix A'''\n",
    "'''interpolative decomp = A1 * I_k + T'''\n",
    "'''all the rows but k columns'''"
   ]
  },
  {
   "cell_type": "code",
   "execution_count": 92,
   "id": "3e6a753c",
   "metadata": {},
   "outputs": [
    {
     "name": "stdout",
     "output_type": "stream",
     "text": [
      "rank given by algorithm 3\n",
      "4.6555644985420616e-10\n"
     ]
    }
   ],
   "source": [
    "first_test = apx_rank_k(10,4,10)\n",
    "rank = RRQR_1(first_test, 10e-10)\n",
    "print(\"rank given by algorithm\", rank)\n",
    "A1, Ik, T = interdecomp(first_test, rank)\n",
    "z_col = np.zeros((3,1))\n",
    "b = np.hstack((Ik,T,z_col))\n",
    "full_ID = np.dot(A1,b)\n",
    "print(np.linalg.norm(first_test - full_ID))"
   ]
  },
  {
   "cell_type": "code",
   "execution_count": 93,
   "id": "01fe39f2",
   "metadata": {},
   "outputs": [],
   "source": [
    "def RRQR_3(A, TOL=None):\n",
    "    m = len(A)                  #number of rows\n",
    "    n = len(A[0])               #number of cols\n",
    "    colnrm = np.zeros(n)\n",
    "    for j in range(n):          #insert values into column norm vector\n",
    "        colnrm[j] = np.linalg.norm(A[:,j], ord=2)\n",
    "    \n",
    "    \n",
    "    for i in range(n):\n",
    "        max_col = max(abs(colnrm[i:]))\n",
    "        max_col_index = np.argmax(colnrm)\n",
    "        A = Swap(A,j,max_col_index)\n",
    "        colnrmm = Swap(colnrm, j, max_col_index)\n",
    "        \n",
    "    \n",
    "    \n",
    "    \n",
    "    Q,R = scipy.qr(A)                           #get qr decomposition with pivoting from scipy                  +\n",
    "    k = 1                                       #starting rank = 1\n",
    "    r_1 = R[0,:]                                #starting slices of the QR decomp, not important just for reference\n",
    "    r_11 = R[0,0]\n",
    "    r_22 = R[1:,1:]\n",
    "    q_1 = Q[:,0]\n",
    "    q_2 = Q[:,1:]\n",
    "    \n",
    "    if TOL == None:                             #default tolerance if none is given\n",
    "        TOL = 10e-5\n",
    "    \n",
    "    err = np.linalg.norm(r_22, ord=2)           #error is equal to norm of the part of the approximated matrix that is not used\n",
    "    while err > TOL and k<min(len(A), len(A[0])):\n",
    "        #print(\"current rank, error\",k, err)                              #while error is greater than tolerance, increase\n",
    "        k += 1                                  #increase rank\n",
    "        \n",
    "        r_1 = R[:k,:]                           #update slices\n",
    "        r_11 = R[:k,:k]\n",
    "        r_22 = R[k:,k:]\n",
    "        q_1 = Q[:,:k]\n",
    "        q_2 = Q[:,k:]\n",
    "        \n",
    "        if len(r_11[0]) == len(R[0]):           #if approximate array is max length of R, can't update error\n",
    "            None\n",
    "        else:\n",
    "            err = np.linalg.norm(r_22, ord=2)\n",
    "        \n",
    "    #print(\"final error: \",np.linalg.norm(r_22, ord=2))\n",
    "    \n",
    "    return k"
   ]
  },
  {
   "cell_type": "code",
   "execution_count": 94,
   "id": "0ae87ebc",
   "metadata": {},
   "outputs": [
    {
     "name": "stdout",
     "output_type": "stream",
     "text": [
      "24 24\n"
     ]
    }
   ],
   "source": [
    "ap = apx_rank_k(100, 25,10)\n",
    "res1 = RRQR_1(ap, TOL = 10e-10)\n",
    "res3 = RRQR_3(ap, TOL = 10e-10)\n",
    "print(res1, res3)"
   ]
  },
  {
   "cell_type": "code",
   "execution_count": 62,
   "id": "86f87272",
   "metadata": {},
   "outputs": [
    {
     "name": "stdout",
     "output_type": "stream",
     "text": [
      "0.991\n"
     ]
    }
   ],
   "source": []
  },
  {
   "cell_type": "code",
   "execution_count": null,
   "id": "35ea51e0",
   "metadata": {},
   "outputs": [],
   "source": []
  }
 ],
 "metadata": {
  "kernelspec": {
   "display_name": "Python 3",
   "language": "python",
   "name": "python3"
  },
  "language_info": {
   "codemirror_mode": {
    "name": "ipython",
    "version": 3
   },
   "file_extension": ".py",
   "mimetype": "text/x-python",
   "name": "python",
   "nbconvert_exporter": "python",
   "pygments_lexer": "ipython3",
   "version": "3.8.8"
  }
 },
 "nbformat": 4,
 "nbformat_minor": 5
}
